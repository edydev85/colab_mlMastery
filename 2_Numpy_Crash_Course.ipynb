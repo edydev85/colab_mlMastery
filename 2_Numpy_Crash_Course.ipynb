{
  "nbformat": 4,
  "nbformat_minor": 0,
  "metadata": {
    "colab": {
      "name": "2 Numpy Crash Course.ipynb",
      "provenance": [],
      "collapsed_sections": [],
      "authorship_tag": "ABX9TyM0eec1B2vedqdMCXlzq7N4",
      "include_colab_link": true
    },
    "kernelspec": {
      "name": "python3",
      "display_name": "Python 3"
    },
    "language_info": {
      "name": "python"
    }
  },
  "cells": [
    {
      "cell_type": "markdown",
      "metadata": {
        "id": "view-in-github",
        "colab_type": "text"
      },
      "source": [
        "<a href=\"https://colab.research.google.com/github/edydev85/colab_mlMastery/blob/main/2_Numpy_Crash_Course.ipynb\" target=\"_parent\"><img src=\"https://colab.research.google.com/assets/colab-badge.svg\" alt=\"Open In Colab\"/></a>"
      ]
    },
    {
      "cell_type": "markdown",
      "source": [
        "# Checando o Pip\n",
        "checando a versão do pip, que é uma ferramenta que usamos para instalar novas bibliotecas no nosso ambiente\n"
      ],
      "metadata": {
        "id": "ztp1zQcKYP5i"
      }
    },
    {
      "cell_type": "code",
      "source": [
        "!pip --version"
      ],
      "metadata": {
        "colab": {
          "base_uri": "https://localhost:8080/"
        },
        "id": "bQfxsbN5YyGf",
        "outputId": "7505be49-cf6a-4cd3-f4a9-7fe125f82680"
      },
      "execution_count": 1,
      "outputs": [
        {
          "output_type": "stream",
          "name": "stdout",
          "text": [
            "pip 21.1.3 from /usr/local/lib/python3.7/dist-packages/pip (python 3.7)\n"
          ]
        }
      ]
    },
    {
      "cell_type": "markdown",
      "source": [
        "# Listando os pacotes instalados com o pip\n",
        "\n",
        "Este comando irá listar todas as bibliotecas instaladas em nosso ambiente.\n",
        "\n",
        "No caso, o Colab já traz uma infinidade delas, inclusive as principais que iremos utilizar nos projetos de ML:\n",
        "- scipy\n",
        "- numpy\n",
        "- matplotlib\n",
        "- pandas\n",
        "- scikitlearn\n"
      ],
      "metadata": {
        "id": "9tk2qt7lXxZI"
      }
    },
    {
      "cell_type": "code",
      "source": [
        "!pip list"
      ],
      "metadata": {
        "id": "te8XOMbOYqzS"
      },
      "execution_count": null,
      "outputs": []
    },
    {
      "cell_type": "markdown",
      "source": [
        "# Importando bibliotecas\n",
        "O comando 'import' traz as bibliotecas armazenadas no nosso ambiente para dentro do jupyter, de modo que possamos usá-las\n",
        "O uso de 'f' dentro do comando print serve para mostrarmos na tela um texto junto com alguma variável de nosso código, neste caso, junto com o resultado da expressão que traz a versão da biblioteca instalada\n",
        "\n"
      ],
      "metadata": {
        "id": "WbU7OXmmYsaJ"
      }
    },
    {
      "cell_type": "code",
      "source": [
        "import numpy as np\n",
        "print(f'numpy:{np.__version__}')"
      ],
      "metadata": {
        "colab": {
          "base_uri": "https://localhost:8080/"
        },
        "id": "JXgaNdiGYk9-",
        "outputId": "a4042e98-609b-41b5-9652-a2def28e26c4"
      },
      "execution_count": 2,
      "outputs": [
        {
          "output_type": "stream",
          "name": "stdout",
          "text": [
            "numpy:1.21.6\n"
          ]
        }
      ]
    },
    {
      "cell_type": "markdown",
      "source": [
        "# Numpy crash course\n",
        "O Numpy fornece a estrutura base para manipulação eficiente das operações matematicas a serem realizadas em ML.\n",
        "\n",
        "Estas estruturas são os arrays"
      ],
      "metadata": {
        "id": "U1vq3XIYZJ6I"
      }
    },
    {
      "cell_type": "code",
      "source": [
        "# vamos criar uma lista automaticamente\n",
        "# a função range(1o) resulta num objeto q consiste numa sequencia de inteiros\n",
        "# esta sequencia então será convertida para uma lista através da função list()\n",
        "a_list = list(range(10))\n",
        "for i in a_list:\n",
        "    print(i)"
      ],
      "metadata": {
        "colab": {
          "base_uri": "https://localhost:8080/"
        },
        "id": "-5u6ecAuZPiE",
        "outputId": "c576835e-dcf0-4b7c-83d9-29b328de1946"
      },
      "execution_count": 5,
      "outputs": [
        {
          "output_type": "stream",
          "name": "stdout",
          "text": [
            "0\n",
            "1\n",
            "2\n",
            "3\n",
            "4\n",
            "5\n",
            "6\n",
            "7\n",
            "8\n",
            "9\n"
          ]
        }
      ]
    },
    {
      "cell_type": "code",
      "source": [
        "numpy_array = np.array(a_list)\n",
        "print(f'array numpy: {numpy_array} ')\n",
        "print(f'formato do array: {numpy_array.shape }')\n",
        "print(f'tipo da variavel: {type(numpy_array)}')"
      ],
      "metadata": {
        "colab": {
          "base_uri": "https://localhost:8080/"
        },
        "id": "3W2Er9w7ZV-P",
        "outputId": "7617ef53-5578-4b66-adb6-816cfc51f331"
      },
      "execution_count": 6,
      "outputs": [
        {
          "output_type": "stream",
          "name": "stdout",
          "text": [
            "array numpy: [0 1 2 3 4 5 6 7 8 9] \n",
            "formato do array: (10,)\n",
            "tipo da variavel: <class 'numpy.ndarray'>\n"
          ]
        }
      ]
    }
  ]
}