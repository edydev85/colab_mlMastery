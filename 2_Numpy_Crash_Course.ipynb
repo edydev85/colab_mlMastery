{
  "nbformat": 4,
  "nbformat_minor": 0,
  "metadata": {
    "colab": {
      "name": "2 Numpy Crash Course.ipynb",
      "provenance": [],
      "collapsed_sections": [],
      "authorship_tag": "ABX9TyNHD4HiQ2dxuVjJnG7/WKm+",
      "include_colab_link": true
    },
    "kernelspec": {
      "name": "python3",
      "display_name": "Python 3"
    },
    "language_info": {
      "name": "python"
    }
  },
  "cells": [
    {
      "cell_type": "markdown",
      "metadata": {
        "id": "view-in-github",
        "colab_type": "text"
      },
      "source": [
        "<a href=\"https://colab.research.google.com/github/edydev85/colab_mlMastery/blob/main/2_Numpy_Crash_Course.ipynb\" target=\"_parent\"><img src=\"https://colab.research.google.com/assets/colab-badge.svg\" alt=\"Open In Colab\"/></a>"
      ]
    },
    {
      "cell_type": "markdown",
      "source": [
        "# Checando o Pip\n",
        "checando a versão do pip, que é uma ferramenta que usamos para instalar novas bibliotecas no nosso ambiente\n"
      ],
      "metadata": {
        "id": "ztp1zQcKYP5i"
      }
    },
    {
      "cell_type": "code",
      "source": [
        "!pip --version"
      ],
      "metadata": {
        "colab": {
          "base_uri": "https://localhost:8080/"
        },
        "id": "bQfxsbN5YyGf",
        "outputId": "7505be49-cf6a-4cd3-f4a9-7fe125f82680"
      },
      "execution_count": 1,
      "outputs": [
        {
          "output_type": "stream",
          "name": "stdout",
          "text": [
            "pip 21.1.3 from /usr/local/lib/python3.7/dist-packages/pip (python 3.7)\n"
          ]
        }
      ]
    },
    {
      "cell_type": "markdown",
      "source": [
        "# Listando os pacotes instalados com o pip\n",
        "\n",
        "Este comando irá listar todas as bibliotecas instaladas em nosso ambiente.\n",
        "\n",
        "No caso, o Colab já traz uma infinidade delas, inclusive as principais que iremos utilizar nos projetos de ML:\n",
        "- scipy\n",
        "- numpy\n",
        "- matplotlib\n",
        "- pandas\n",
        "- scikitlearn\n"
      ],
      "metadata": {
        "id": "9tk2qt7lXxZI"
      }
    },
    {
      "cell_type": "code",
      "source": [
        "!pip list"
      ],
      "metadata": {
        "id": "te8XOMbOYqzS"
      },
      "execution_count": null,
      "outputs": []
    },
    {
      "cell_type": "markdown",
      "source": [
        "# Importando bibliotecas\n",
        "O comando 'import' traz as bibliotecas armazenadas no nosso ambiente para dentro do jupyter, de modo que possamos usá-las\n",
        "O uso de 'f' dentro do comando print serve para mostrarmos na tela um texto junto com alguma variável de nosso código, neste caso, junto com o resultado da expressão que traz a versão da biblioteca instalada\n",
        "\n"
      ],
      "metadata": {
        "id": "WbU7OXmmYsaJ"
      }
    },
    {
      "cell_type": "code",
      "source": [
        "import numpy as np\n",
        "print(f'numpy:{np.__version__}')"
      ],
      "metadata": {
        "colab": {
          "base_uri": "https://localhost:8080/"
        },
        "id": "JXgaNdiGYk9-",
        "outputId": "a4042e98-609b-41b5-9652-a2def28e26c4"
      },
      "execution_count": 2,
      "outputs": [
        {
          "output_type": "stream",
          "name": "stdout",
          "text": [
            "numpy:1.21.6\n"
          ]
        }
      ]
    },
    {
      "cell_type": "markdown",
      "source": [
        "# Numpy crash course\n",
        "O Numpy fornece a estrutura base para manipulação eficiente das operações matematicas a serem realizadas em ML.\n",
        "\n",
        "Estas estruturas são os arrays"
      ],
      "metadata": {
        "id": "U1vq3XIYZJ6I"
      }
    },
    {
      "cell_type": "code",
      "source": [
        "# vamos criar uma lista automaticamente\n",
        "# a função range(1o) resulta num objeto q consiste numa sequencia de inteiros\n",
        "# esta sequencia então será convertida para uma lista através da função list()\n",
        "a_list = list(range(10))\n",
        "for i in a_list:\n",
        "    print(i)"
      ],
      "metadata": {
        "colab": {
          "base_uri": "https://localhost:8080/"
        },
        "id": "-5u6ecAuZPiE",
        "outputId": "c576835e-dcf0-4b7c-83d9-29b328de1946"
      },
      "execution_count": 5,
      "outputs": [
        {
          "output_type": "stream",
          "name": "stdout",
          "text": [
            "0\n",
            "1\n",
            "2\n",
            "3\n",
            "4\n",
            "5\n",
            "6\n",
            "7\n",
            "8\n",
            "9\n"
          ]
        }
      ]
    },
    {
      "cell_type": "code",
      "source": [
        "numpy_array = np.array(a_list)\n",
        "print(f'array numpy: {numpy_array} ')\n",
        "print(f'formato do array: {numpy_array.shape }')\n",
        "print(f'tipo da variavel: {type(numpy_array)}')"
      ],
      "metadata": {
        "colab": {
          "base_uri": "https://localhost:8080/"
        },
        "id": "3W2Er9w7ZV-P",
        "outputId": "7617ef53-5578-4b66-adb6-816cfc51f331"
      },
      "execution_count": 6,
      "outputs": [
        {
          "output_type": "stream",
          "name": "stdout",
          "text": [
            "array numpy: [0 1 2 3 4 5 6 7 8 9] \n",
            "formato do array: (10,)\n",
            "tipo da variavel: <class 'numpy.ndarray'>\n"
          ]
        }
      ]
    },
    {
      "cell_type": "code",
      "source": [
        "# Acessando os dados dos arrays com numpy\n",
        "listas = [[1,2,3],[3,4,5]]\n",
        "array_bi = np.array(listas)\n",
        "print(array_bi)\n",
        "print(array_bi.shape)\n",
        "print(f'primeira linha: {array_bi[0]}')\n",
        "print(f'ultima linha: {array_bi[-1]}')\n",
        "print(f'primeira coluna: {array_bi[:, 0]}')\n",
        "print(f'ultima coluna: {array_bi[:, -1]}')\n",
        "print(f'um item especifico: {array_bi[0,2]}')"
      ],
      "metadata": {
        "colab": {
          "base_uri": "https://localhost:8080/"
        },
        "id": "18B1P525aVCH",
        "outputId": "a4e709cc-504a-4426-8bcd-09383eafe65b"
      },
      "execution_count": 7,
      "outputs": [
        {
          "output_type": "stream",
          "name": "stdout",
          "text": [
            "[[1 2 3]\n",
            " [3 4 5]]\n",
            "(2, 3)\n",
            "primeira linha: [1 2 3]\n",
            "ultima linha: [3 4 5]\n",
            "primeira coluna: [1 3]\n",
            "ultima coluna: [3 5]\n",
            "um item especifico: 3\n"
          ]
        }
      ]
    },
    {
      "cell_type": "markdown",
      "source": [
        "# Aritimética"
      ],
      "metadata": {
        "id": "f7rKkfb7dBcS"
      }
    },
    {
      "cell_type": "code",
      "source": [
        "\n",
        "array1 = np.array([2,2,2])\n",
        "array2 = np.array([3,3,3])\n",
        "print(f'Adição: {array1 + array2}')\n",
        "print(f'Multiplicação: {array1 * array2}')\n",
        "print(f'Exponenciação: {array1 ** array2}')"
      ],
      "metadata": {
        "colab": {
          "base_uri": "https://localhost:8080/"
        },
        "id": "ITPZYwwic3_Y",
        "outputId": "e8f2e91c-3e0c-434a-f91e-78c96148df99"
      },
      "execution_count": 11,
      "outputs": [
        {
          "output_type": "stream",
          "name": "stdout",
          "text": [
            "Adição: [5 5 5]\n",
            "Multiplicação: [6 6 6]\n",
            "Exponenciação: [8 8 8]\n"
          ]
        }
      ]
    }
  ]
}