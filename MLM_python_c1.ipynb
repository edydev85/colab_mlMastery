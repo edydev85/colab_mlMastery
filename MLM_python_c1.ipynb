{
  "nbformat": 4,
  "nbformat_minor": 0,
  "metadata": {
    "colab": {
      "name": "MLM_python_c1.ipynb",
      "provenance": [],
      "collapsed_sections": [],
      "authorship_tag": "ABX9TyOmya5ldusBRpz7ANYYG94N",
      "include_colab_link": true
    },
    "kernelspec": {
      "name": "python3",
      "display_name": "Python 3"
    },
    "language_info": {
      "name": "python"
    }
  },
  "cells": [
    {
      "cell_type": "markdown",
      "metadata": {
        "id": "view-in-github",
        "colab_type": "text"
      },
      "source": [
        "<a href=\"https://colab.research.google.com/github/edydev85/colab_mlMastery/blob/main/MLM_python_c1.ipynb\" target=\"_parent\"><img src=\"https://colab.research.google.com/assets/colab-badge.svg\" alt=\"Open In Colab\"/></a>"
      ]
    },
    {
      "cell_type": "markdown",
      "source": [
        "# INICIANDO\n",
        "O comando '!' serve para executarmos comandos do shell a partir da célula do jupyter. \n",
        "\n",
        "Neste caso, estamos checando qual é a verão do python com a qual iremos trabalhar"
      ],
      "metadata": {
        "id": "XbdEwdSeBElm"
      }
    },
    {
      "cell_type": "code",
      "execution_count": 8,
      "metadata": {
        "colab": {
          "base_uri": "https://localhost:8080/"
        },
        "id": "t8exvbc12q8r",
        "outputId": "66cbbf06-b445-4912-b451-1f11309cb2ec"
      },
      "outputs": [
        {
          "output_type": "stream",
          "name": "stdout",
          "text": [
            "Python 3.7.13\n"
          ]
        }
      ],
      "source": [
        "!python --version"
      ]
    },
    {
      "cell_type": "markdown",
      "source": [
        "Mesma coisa que na célula anterior, só que checando a versão do pip, que é uma ferramenta que usamos para instalar novas bibliotecas no nosso ambiente"
      ],
      "metadata": {
        "id": "nraSC7PHBadq"
      }
    },
    {
      "cell_type": "code",
      "source": [
        "!pip --version"
      ],
      "metadata": {
        "colab": {
          "base_uri": "https://localhost:8080/"
        },
        "id": "9t8gm4x29Lew",
        "outputId": "3a0447fb-68e9-45e1-cac8-d73f54a738b4"
      },
      "execution_count": 9,
      "outputs": [
        {
          "output_type": "stream",
          "name": "stdout",
          "text": [
            "pip 21.1.3 from /usr/local/lib/python3.7/dist-packages/pip (python 3.7)\n"
          ]
        }
      ]
    },
    {
      "cell_type": "markdown",
      "source": [
        "Este comando irá listar todas as bibliotecas instaladas em nosso ambiente. \n",
        "\n",
        "No caso, o Colab já traz uma infinidade delas, inclusive as principais que iremos utilizar nos projetos de ML:\n",
        "- scipy\n",
        "- numpy\n",
        "- matplotlib\n",
        "- pandas\n",
        "- scikitlearn"
      ],
      "metadata": {
        "id": "-VNoWI5_BmSD"
      }
    },
    {
      "cell_type": "code",
      "source": [
        "!pip list"
      ],
      "metadata": {
        "id": "laP_CuH89Rgm"
      },
      "execution_count": 10,
      "outputs": []
    },
    {
      "cell_type": "markdown",
      "source": [
        "# Importando bibliotecas\n",
        "O comando 'import' traz as bibliotecas armazenadas no nosso ambiente para dentro do jupyter, de modo que possamos usá-las\n",
        "\n",
        "O uso de 'f' dentro do comando print serve para mostrarmos na tela um texto junto com alguma variável de nosso código, neste caso, junto com o resultado da expressão que traz a versão da biblioteca instalada"
      ],
      "metadata": {
        "id": "W6pYcoSVCgYz"
      }
    },
    {
      "cell_type": "code",
      "source": [
        "import scipy as sp\n",
        "print(f'scipy:{sp.__version__}')\n",
        "import numpy as np\n",
        "print(f'numpy:{np.__version__}')\n",
        "import matplotlib as plt\n",
        "print(f'matplotlib:{plt.__version__}')\n",
        "import pandas as pd\n",
        "print(f'pandas:{pd.__version__}')\n",
        "import sklearn as sk\n",
        "print(f'sklearn:{sk.__version__}')"
      ],
      "metadata": {
        "colab": {
          "base_uri": "https://localhost:8080/"
        },
        "id": "xfPhFpHe90PG",
        "outputId": "ab06b43a-9d2c-46ca-a6c1-f767913f7a13"
      },
      "execution_count": 23,
      "outputs": [
        {
          "output_type": "stream",
          "name": "stdout",
          "text": [
            "scipy:1.4.1\n",
            "numpy:1.21.6\n",
            "matplotlib:3.2.2\n",
            "pandas:1.3.5\n",
            "sklearn:1.0.2\n"
          ]
        }
      ]
    },
    {
      "cell_type": "markdown",
      "source": [
        "# Python crash course\n",
        "\n",
        "## Variaveis"
      ],
      "metadata": {
        "id": "KCuqc9TFDHLR"
      }
    },
    {
      "cell_type": "code",
      "source": [
        "# Strings\n",
        "texto = 'hello word'\n",
        "print(texto)\n",
        "print(len(texto)) # exibe a qtd de caracteres do texto\n",
        "print(texto[0]) # acesso o caracter q ocupa a posição especificada pelo indice (0)\n",
        "\n"
      ],
      "metadata": {
        "colab": {
          "base_uri": "https://localhost:8080/"
        },
        "id": "mm9nLbvBDA7A",
        "outputId": "77637018-14e4-4f0d-8316-df9f0debdfb0"
      },
      "execution_count": 24,
      "outputs": [
        {
          "output_type": "stream",
          "name": "stdout",
          "text": [
            "h\n",
            "10\n",
            "hello word\n"
          ]
        }
      ]
    },
    {
      "cell_type": "code",
      "source": [
        "# Numeros\n",
        "inteiro = 10\n",
        "print(inteiro)\n",
        "real = 10.52\n",
        "print(real)"
      ],
      "metadata": {
        "colab": {
          "base_uri": "https://localhost:8080/"
        },
        "id": "vpjfUcMNDnb6",
        "outputId": "31f9469c-42a4-4821-fa2d-e40ac5dfa3d3"
      },
      "execution_count": 25,
      "outputs": [
        {
          "output_type": "stream",
          "name": "stdout",
          "text": [
            "10\n",
            "10.52\n"
          ]
        }
      ]
    },
    {
      "cell_type": "code",
      "source": [
        "# Booleano\n",
        "verdadeiro = True\n",
        "falso = False\n",
        "print(verdadeiro, falso)"
      ],
      "metadata": {
        "colab": {
          "base_uri": "https://localhost:8080/"
        },
        "id": "1N6AzJjPEJRR",
        "outputId": "b68542eb-5df3-4b0e-d108-00b81b128d66"
      },
      "execution_count": 29,
      "outputs": [
        {
          "output_type": "stream",
          "name": "stdout",
          "text": [
            "True False\n"
          ]
        }
      ]
    },
    {
      "cell_type": "code",
      "source": [
        "# No value\n",
        "sem_valor = None\n",
        "print(sem_valor)"
      ],
      "metadata": {
        "colab": {
          "base_uri": "https://localhost:8080/"
        },
        "id": "LlXpRNHCEu8_",
        "outputId": "301d288d-15f1-45cd-89d4-28a68ec7f4f5"
      },
      "execution_count": 30,
      "outputs": [
        {
          "output_type": "stream",
          "name": "stdout",
          "text": [
            "None\n"
          ]
        }
      ]
    },
    {
      "cell_type": "markdown",
      "source": [
        "## Flow control"
      ],
      "metadata": {
        "id": "WiMLkz4sFDLp"
      }
    },
    {
      "cell_type": "code",
      "source": [
        "# Condicional\n",
        "# If-then-else\n",
        "\n",
        "valor = 201\n",
        "if valor == 99:\n",
        "    print('é 99 mesmo')\n",
        "elif valor > 200:\n",
        "    print('maior que 99')\n",
        "else:\n",
        "    print('valor deve ser menor q 99')"
      ],
      "metadata": {
        "colab": {
          "base_uri": "https://localhost:8080/"
        },
        "id": "aIJrcw-6FJaG",
        "outputId": "7cb634c1-0214-420a-e71e-6cd464414b5b"
      },
      "execution_count": 33,
      "outputs": [
        {
          "output_type": "stream",
          "name": "stdout",
          "text": [
            "maior que 99\n"
          ]
        }
      ]
    },
    {
      "cell_type": "code",
      "source": [
        "# For-Loop\n",
        "for valor in range(10):\n",
        "    print(valor)"
      ],
      "metadata": {
        "colab": {
          "base_uri": "https://localhost:8080/"
        },
        "id": "QUa3YoKsFt-G",
        "outputId": "c8afb68c-e87c-4837-cb14-b80375e81f9f"
      },
      "execution_count": 35,
      "outputs": [
        {
          "output_type": "stream",
          "name": "stdout",
          "text": [
            "0\n",
            "1\n",
            "2\n",
            "3\n",
            "4\n",
            "5\n",
            "6\n",
            "7\n",
            "8\n",
            "9\n"
          ]
        }
      ]
    },
    {
      "cell_type": "code",
      "source": [
        "# while-loop\n",
        "\n",
        "condicao = 0\n",
        "while condicao < 10:\n",
        "    print(condicao)\n",
        "    condicao += 1"
      ],
      "metadata": {
        "colab": {
          "base_uri": "https://localhost:8080/"
        },
        "id": "yewrdbQ4F3EB",
        "outputId": "b5d3bd2c-7db7-4230-d0f7-e844f1659439"
      },
      "execution_count": 36,
      "outputs": [
        {
          "output_type": "stream",
          "name": "stdout",
          "text": [
            "0\n",
            "1\n",
            "2\n",
            "3\n",
            "4\n",
            "5\n",
            "6\n",
            "7\n",
            "8\n",
            "9\n"
          ]
        }
      ]
    },
    {
      "cell_type": "markdown",
      "source": [
        "# Data Structures"
      ],
      "metadata": {
        "id": "LVLYNIMMGM04"
      }
    },
    {
      "cell_type": "code",
      "source": [
        "# Tuples\n",
        "# São coleções de itens unicos (ready-only)\n",
        "# sua sintaxe é: delimitada por () e itens separados por ','\n",
        "tupla = (1,2,3,4,2)\n",
        "print(tupla)"
      ],
      "metadata": {
        "colab": {
          "base_uri": "https://localhost:8080/"
        },
        "id": "pQgEn2HmGQkx",
        "outputId": "bd02a513-a59f-4bea-c993-f636389c0842"
      },
      "execution_count": 41,
      "outputs": [
        {
          "output_type": "stream",
          "name": "stdout",
          "text": [
            "(1, 2, 3, 4, 2)\n",
            "['count', 'index']\n"
          ]
        }
      ]
    },
    {
      "cell_type": "markdown",
      "source": [
        "from typing import ItemsView\n",
        "# Tupla é uma estrutura imutável\n",
        "A lista abaixo traz os métodos disponíveis para a estrutura de tupla.\n",
        "Podemos perceber que não há ações para adicionar, alterar ou remover ItemsView\n",
        "Apenas métodos para contar e checar a posição do item"
      ],
      "metadata": {
        "id": "1Jzfg5F9H-tr"
      }
    },
    {
      "cell_type": "code",
      "source": [
        "# Listando os métodos disponíveis para a estrutura de tupla\n",
        "metodos_tupla = [method for method in dir(tupla) if method.startswith('__') is False]\n",
        "print(methmetodos_tuplaod_list)\n",
        "\n",
        "print(f\"a tupla tem {tupla.count(2)} elementos do tipo 2\")\n",
        "print(f\"na posição 3 temos o item {tupla.index(2)}\")"
      ],
      "metadata": {
        "colab": {
          "base_uri": "https://localhost:8080/"
        },
        "id": "fXAb9tjOIX9P",
        "outputId": "9d3bfd4e-1937-4d89-c0c3-330e9fedf7aa"
      },
      "execution_count": 50,
      "outputs": [
        {
          "output_type": "stream",
          "name": "stdout",
          "text": [
            "['count', 'index']\n",
            "a tupla tem 2 elementos do tipo 2\n",
            "na posição 3 temos o item 1\n"
          ]
        }
      ]
    },
    {
      "cell_type": "code",
      "source": [
        "# List\n",
        "# Sua sintaxe é: delimitada por [] e itens separados por ',''\n",
        "lista = [1,2,3,4]\n",
        "print(f'primeiro elemento da lista é {lista[0]}')\n",
        "lista.append(5)  # adicionamos um elemento ao final da lista\n",
        "print(f'tamanho da lista é: {len(lista)}')\n",
        "for item in lista:\n",
        "    print(item) "
      ],
      "metadata": {
        "colab": {
          "base_uri": "https://localhost:8080/"
        },
        "id": "nWoEi4y3Jfu7",
        "outputId": "181375b3-6ae4-4b7c-8762-f40a3179959f"
      },
      "execution_count": 51,
      "outputs": [
        {
          "output_type": "stream",
          "name": "stdout",
          "text": [
            "primeiro elemento da lista é 1\n",
            "tamanho da lista é: 5\n",
            "1\n",
            "2\n",
            "3\n",
            "4\n",
            "5\n"
          ]
        }
      ]
    },
    {
      "cell_type": "markdown",
      "source": [
        "# Lista é uma estrutura mutavel\n",
        "Podemos ver na relação de seus métodos, aqueles que se referem a alteração dos elementos dentro da lista"
      ],
      "metadata": {
        "id": "CAS2bhjNKZUD"
      }
    },
    {
      "cell_type": "code",
      "source": [
        "# Listando os métodos disponíveis para a estrutura de tupla\n",
        "metodos_lista = [method for method in dir(lista) if method.startswith('__') is False]\n",
        "for metodo in metodos_lista:\n",
        "    print(metodo)"
      ],
      "metadata": {
        "colab": {
          "base_uri": "https://localhost:8080/"
        },
        "id": "B5wd60FVKree",
        "outputId": "ed4f10ef-c453-43a3-8f32-ab3c6350adb2"
      },
      "execution_count": 54,
      "outputs": [
        {
          "output_type": "stream",
          "name": "stdout",
          "text": [
            "append\n",
            "clear\n",
            "copy\n",
            "count\n",
            "extend\n",
            "index\n",
            "insert\n",
            "pop\n",
            "remove\n",
            "reverse\n",
            "sort\n"
          ]
        }
      ]
    },
    {
      "cell_type": "code",
      "source": [
        "# Dictionary\n",
        "# Estrutura mutável em forma de pares do tipo chave:valor\n",
        "# sintaxe: delimitado por {} e itens separados por ','\n",
        "dicionario = {'nome': \"Edy\", 'idade': 37, 'hobbies': ['ler','musica']}\n",
        "print(f\"Acessando o item nome para saber seu valor: {dicionario['nome']}\")\n",
        "# nota: quando printando dados do dicionario acessados por chave no formato de texto, cuidado com as \"\" e ''\n",
        "print(f'Listando as chaves do dicionario: {dicionario.keys}')\n",
        "print(f'Listando os valores do dicionario: {dicionario.values}')\n",
        "\n",
        "for item in dicionario.items():\n",
        "    print(item)"
      ],
      "metadata": {
        "colab": {
          "base_uri": "https://localhost:8080/"
        },
        "id": "-roqqBTcLHSf",
        "outputId": "ac8396a2-811c-4842-e5d6-570d898b3c9c"
      },
      "execution_count": 65,
      "outputs": [
        {
          "output_type": "stream",
          "name": "stdout",
          "text": [
            "Acessando o item nome para saber seu valor: Edy\n",
            "Listando as chaves do dicionario: <built-in method keys of dict object at 0x7f7e47754550>\n",
            "Listando os valores do dicionario: <built-in method values of dict object at 0x7f7e47754550>\n",
            "('nome', 'Edy')\n",
            "('idade', 37)\n",
            "('hobbies', ['ler', 'musica'])\n"
          ]
        }
      ]
    },
    {
      "cell_type": "markdown",
      "source": [
        "# Funções"
      ],
      "metadata": {
        "id": "-ChsqfsJLqrv"
      }
    },
    {
      "cell_type": "code",
      "source": [
        "# Funções em Python são definidas pela palavra def\n",
        "# o pulo do gato aqui é deixar uma linha em brando apos acabar a função\n",
        "def soma(x,y):\n",
        "    return x + y\n",
        "\n",
        "# Testando a função\n",
        "resultado = soma(1,3)\n",
        "print(resultado)"
      ],
      "metadata": {
        "colab": {
          "base_uri": "https://localhost:8080/"
        },
        "id": "oF5dOPNgQCpa",
        "outputId": "95deb4c8-3420-4596-d639-670d335f0dbb"
      },
      "execution_count": 68,
      "outputs": [
        {
          "output_type": "stream",
          "name": "stdout",
          "text": [
            "4\n"
          ]
        }
      ]
    },
    {
      "cell_type": "markdown",
      "source": [
        "# Numpy crash course\n",
        "\n",
        "O Numpy fornece a estrutura base para manipulação eficiente das operações matematicas a serem realizadas em ML.\n",
        "\n",
        "Estas estruturas são os arrays"
      ],
      "metadata": {
        "id": "e2KnVnM-PFaK"
      }
    },
    {
      "cell_type": "code",
      "source": [
        "# vamos criar uma lista automaticamente\n",
        "# a função range(1o) resulta num objeto q consiste numa sequencia de inteiros\n",
        "# esta sequencia então será convertida para uma lista através da função list()\n",
        "a_list = list(range(10))\n",
        "for i in a_list:\n",
        "    print(i)"
      ],
      "metadata": {
        "colab": {
          "base_uri": "https://localhost:8080/"
        },
        "id": "hHHMSJcRQ_xl",
        "outputId": "89bf3dee-13b0-45a4-d9ee-337c85f83799"
      },
      "execution_count": 73,
      "outputs": [
        {
          "output_type": "stream",
          "name": "stdout",
          "text": [
            "0\n",
            "1\n",
            "2\n",
            "3\n",
            "4\n",
            "5\n",
            "6\n",
            "7\n",
            "8\n",
            "9\n"
          ]
        }
      ]
    },
    {
      "cell_type": "code",
      "source": [
        "numpy_array = np.array(a_list)\n",
        "print(f'array numpy: {numpy_array} ')\n",
        "print(f'formato do array: {numpy_array.shape }')\n",
        "print(f'tipo da variavel: {type(numpy_array)}')"
      ],
      "metadata": {
        "colab": {
          "base_uri": "https://localhost:8080/"
        },
        "id": "JuqfftNjVCRd",
        "outputId": "c469f90e-9d73-4c5c-9c9c-8c04da95a734"
      },
      "execution_count": 76,
      "outputs": [
        {
          "output_type": "stream",
          "name": "stdout",
          "text": [
            "array numpy: [0 1 2 3 4 5 6 7 8 9] \n",
            "formato do array: (10,)\n",
            "tipo da variavel: <class 'numpy.ndarray'>\n"
          ]
        }
      ]
    }
  ]
}