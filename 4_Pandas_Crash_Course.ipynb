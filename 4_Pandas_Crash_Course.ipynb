{
  "nbformat": 4,
  "nbformat_minor": 0,
  "metadata": {
    "colab": {
      "name": "4 Pandas Crash Course.ipynb",
      "provenance": [],
      "authorship_tag": "ABX9TyPM7OxhYlOhoOQVrxtT+xSM",
      "include_colab_link": true
    },
    "kernelspec": {
      "name": "python3",
      "display_name": "Python 3"
    },
    "language_info": {
      "name": "python"
    }
  },
  "cells": [
    {
      "cell_type": "markdown",
      "metadata": {
        "id": "view-in-github",
        "colab_type": "text"
      },
      "source": [
        "<a href=\"https://colab.research.google.com/github/edydev85/colab_mlMastery/blob/main/4_Pandas_Crash_Course.ipynb\" target=\"_parent\"><img src=\"https://colab.research.google.com/assets/colab-badge.svg\" alt=\"Open In Colab\"/></a>"
      ]
    },
    {
      "cell_type": "code",
      "execution_count": 3,
      "metadata": {
        "id": "RU2XF-5PhkR0"
      },
      "outputs": [],
      "source": [
        "import numpy as np\n",
        "import pandas as pd"
      ]
    },
    {
      "cell_type": "markdown",
      "source": [
        "# Pandas Series\n",
        "Uma Series em panda é um objeto que equivale a uma coluna.\n",
        "É um array unidimensional"
      ],
      "metadata": {
        "id": "16NPbldfijrk"
      }
    },
    {
      "cell_type": "code",
      "source": [
        "# estamos criando uma serie em pandas cujo indice são os nomes das linhas\n",
        "# o indice default é sequencia numerica\n",
        "array = np.array([1,2,3])\n",
        "nome_linhas = ['a', 'b', 'c']\n",
        "pandas_series = pd.Series(array, index=nome_linhas)\n",
        "print(pandas_series)"
      ],
      "metadata": {
        "colab": {
          "base_uri": "https://localhost:8080/"
        },
        "id": "ZLiBr5w5h7Pv",
        "outputId": "a08d0c9d-ed0a-4afb-e3e1-6070b5c668e5"
      },
      "execution_count": 5,
      "outputs": [
        {
          "output_type": "stream",
          "name": "stdout",
          "text": [
            "a    1\n",
            "b    2\n",
            "c    3\n",
            "dtype: int64\n"
          ]
        }
      ]
    },
    {
      "cell_type": "code",
      "source": [
        "print(pandas_series[2])\n",
        "print(pandas_series['b'])"
      ],
      "metadata": {
        "colab": {
          "base_uri": "https://localhost:8080/"
        },
        "id": "TQ73Ha0piydz",
        "outputId": "c0be4ade-b8b4-4ae9-df7e-c4a550456de5"
      },
      "execution_count": 9,
      "outputs": [
        {
          "output_type": "stream",
          "name": "stdout",
          "text": [
            "3\n",
            "2\n"
          ]
        }
      ]
    },
    {
      "cell_type": "markdown",
      "source": [
        "# Dataframes\n",
        "\n",
        "Um dataframe é um array multidimensional. Em geral, bidimensional"
      ],
      "metadata": {
        "id": "IIB5P8khjcoA"
      }
    },
    {
      "cell_type": "code",
      "source": [
        "array3 = ([1,2,3],[4,5,6])\n",
        "rownames = ['a', 'b']\n",
        "colnames = ['one', 'two', 'three']\n",
        "df = pd.DataFrame(array3, index=rownames, columns=colnames)\n",
        "print(df)"
      ],
      "metadata": {
        "colab": {
          "base_uri": "https://localhost:8080/"
        },
        "id": "4w38Q9rpjrfv",
        "outputId": "3ca3c26c-de18-4c5e-e76d-cee96e9b4202"
      },
      "execution_count": 10,
      "outputs": [
        {
          "output_type": "stream",
          "name": "stdout",
          "text": [
            "   one  two  three\n",
            "a    1    2      3\n",
            "b    4    5      6\n"
          ]
        }
      ]
    }
  ]
}